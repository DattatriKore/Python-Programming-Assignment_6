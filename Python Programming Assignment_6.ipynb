{
 "cells": [
  {
   "cell_type": "code",
   "execution_count": 11,
   "id": "05045d74",
   "metadata": {},
   "outputs": [
    {
     "data": {
      "text/plain": [
       "6765"
      ]
     },
     "execution_count": 11,
     "metadata": {},
     "output_type": "execute_result"
    }
   ],
   "source": [
    "# Q[1] : Write a Python Program to Display Fibonacci Sequence Using Recursion?\n",
    "\n",
    "def fibrecur(n):\n",
    "    if n == 0:\n",
    "        return 0\n",
    "    elif n == 1:\n",
    "        return 1\n",
    "    else:\n",
    "        return fibrecur(n-1) + fibrecur(n-2)\n",
    "fibrecur(20)"
   ]
  },
  {
   "cell_type": "code",
   "execution_count": 31,
   "id": "de6d150d",
   "metadata": {},
   "outputs": [
    {
     "name": "stdout",
     "output_type": "stream",
     "text": [
      "Enter your Factorial Number: 10\n",
      "3628800\n"
     ]
    }
   ],
   "source": [
    "# q.[2] : Write a Python Program to Find Factorial of Number Using Recursion?\n",
    "\n",
    "def fact_recur(n):\n",
    "    if n == 0:\n",
    "        return 1\n",
    "    else:\n",
    "        return n*fact_recur(n-1)\n",
    "num = int(input(\"Enter your Factorial Number: \"))\n",
    "print(fact_recur(num))\n",
    "\n"
   ]
  },
  {
   "cell_type": "code",
   "execution_count": 6,
   "id": "b808a20a",
   "metadata": {},
   "outputs": [
    {
     "name": "stdout",
     "output_type": "stream",
     "text": [
      "Enter your height in meters: 6.4\n",
      "Enter your weight in kg: 60\n",
      "BMI Calculated is: 1.4648437499999998\n",
      "Congrats! You are Healthy\n"
     ]
    }
   ],
   "source": [
    "# Q.[3] : Write a Python Program to calculate your Body Mass Index?\n",
    "\n",
    "h = float(input(\"Enter your height in meters: \"))\n",
    "w = int(input(\"Enter your weight in kg: \"))\n",
    "\n",
    "BMI = w/(h*h)\n",
    "print(f\"BMI Calculated is: {BMI}\")\n",
    "\n",
    "if BMI > 0 :\n",
    "    if BMI <= 16:\n",
    "        print(\"Congrats! You are Healthy\")\n",
    "    elif BMI <= 20:\n",
    "        print(\"you are underweight\")\n",
    "    elif BMI <= 25:\n",
    "        print(\"you are very underweight\")\n",
    "    else:\n",
    "        print(\"you are very overweight\")\n",
    "else:\n",
    "    print(\"Enter a valid detail\")"
   ]
  },
  {
   "cell_type": "code",
   "execution_count": 14,
   "id": "daba8e38",
   "metadata": {},
   "outputs": [
    {
     "data": {
      "text/plain": [
       "1.0"
      ]
     },
     "execution_count": 14,
     "metadata": {},
     "output_type": "execute_result"
    }
   ],
   "source": [
    "# Q.[4] : Write a Python Program to calculate the natural logarithm of any number?\n",
    "\n",
    "import math\n",
    "math.e\n",
    "e = math.e\n",
    "math.log(e)\n"
   ]
  },
  {
   "cell_type": "code",
   "execution_count": 16,
   "id": "f0821fdf",
   "metadata": {},
   "outputs": [
    {
     "name": "stdout",
     "output_type": "stream",
     "text": [
      "Enter your Number: 3\n",
      "36\n"
     ]
    }
   ],
   "source": [
    "# Q.[5] : Write a Python Program for cube sum of first n natural numbers?\n",
    "\n",
    "def cube_sum(n):\n",
    "    sum = 0\n",
    "    for i in range(1,n+1):\n",
    "        sum = sum + i*i*i\n",
    "    \n",
    "    return sum\n",
    "\n",
    "num = int(input(\"Enter your Number: \"))\n",
    "print(cube_sum(num))"
   ]
  },
  {
   "cell_type": "code",
   "execution_count": null,
   "id": "e832b9ae",
   "metadata": {},
   "outputs": [],
   "source": []
  }
 ],
 "metadata": {
  "kernelspec": {
   "display_name": "Python 3 (ipykernel)",
   "language": "python",
   "name": "python3"
  },
  "language_info": {
   "codemirror_mode": {
    "name": "ipython",
    "version": 3
   },
   "file_extension": ".py",
   "mimetype": "text/x-python",
   "name": "python",
   "nbconvert_exporter": "python",
   "pygments_lexer": "ipython3",
   "version": "3.9.12"
  }
 },
 "nbformat": 4,
 "nbformat_minor": 5
}
